{
  "nbformat": 4,
  "nbformat_minor": 0,
  "metadata": {
    "colab": {
      "name": "Vienna Air BnB Analysis.ipynb",
      "provenance": [],
      "collapsed_sections": []
    },
    "kernelspec": {
      "name": "python3",
      "display_name": "Python 3"
    },
    "language_info": {
      "name": "python"
    }
  },
  "cells": [
    {
      "cell_type": "markdown",
      "source": [
        "## **AIR BnB VIENNA ANALYSIS**\n",
        "\n",
        "Jonathan Jones\n",
        "\n",
        "22.05.05"
      ],
      "metadata": {
        "id": "uAp4XhQ71Cd8"
      }
    },
    {
      "cell_type": "code",
      "source": [
        "import pandas as pd\n",
        "import numpy as np\n",
        "\n",
        "from google.colab import drive\n",
        "drive.mount('/content/drive')"
      ],
      "metadata": {
        "colab": {
          "base_uri": "https://localhost:8080/"
        },
        "id": "DRoRyZql0_BK",
        "outputId": "b56ee4d2-ba02-44c6-d04f-676e7cf502e6"
      },
      "execution_count": 15,
      "outputs": [
        {
          "output_type": "stream",
          "name": "stdout",
          "text": [
            "Drive already mounted at /content/drive; to attempt to forcibly remount, call drive.mount(\"/content/drive\", force_remount=True).\n"
          ]
        }
      ]
    },
    {
      "cell_type": "markdown",
      "source": [
        "## **BACK-UP DATASET**"
      ],
      "metadata": {
        "id": "Kr9xm-1VRi0z"
      }
    },
    {
      "cell_type": "markdown",
      "source": [
        "1) Source of data:\n",
        "\n",
        "  https://data.cityofnewyork.us/Housing-Development/DOF-Condominium-Comparable-Rental-Income-Manhattan/ad4c-mphb\n",
        "\n",
        "2) Brief description of data\n",
        "\n",
        " NYC Condominiums with similar features are compared and assessed as rental units. \n",
        "\n",
        "3) What is the target?\n",
        "\n",
        "  MANHATTAN CONDOMINIUM PROPERTY Est. Gross Income\n",
        "\n",
        "4) Is this a classification or regression problem?\n",
        "\n",
        "  This is regression problem as the target value is not limited to a finite number of classes or values. \n",
        "\n",
        "5) How many features?\n",
        "\n",
        "  46-1(target) columns = 45 features (TBD). I will undoubtedly drop several more columns once I begin to look through the data more closely.  \n",
        "\n",
        "6) How many rows of data.\n",
        "\n",
        "  1068\n",
        "\n",
        "7) What, if any, challenges do you foresee in cleaning, exploring, or modeling with this dataset?\n",
        "\n",
        " This dataset has a lot of columns, the challenge lies in determining which columns will be the most effective for predicting our target values. "
      ],
      "metadata": {
        "id": "7gmgoRLSLi2M"
      }
    },
    {
      "cell_type": "code",
      "source": [
        "data2 = '/content/drive/MyDrive/SI/DOF__Condominium_Comparable_Rental_Income___Manhattan___FY_2009_2010.csv'\n",
        "df2 = pd.read_csv(data2)\n",
        "df2.head(5)"
      ],
      "metadata": {
        "colab": {
          "base_uri": "https://localhost:8080/",
          "height": 490
        },
        "id": "8rOsHAI41gi_",
        "outputId": "55c1b8dc-7de8-4326-e50c-53522f213f01"
      },
      "execution_count": 30,
      "outputs": [
        {
          "output_type": "execute_result",
          "data": {
            "text/plain": [
              "  MANHATTAN CONDOMINIUM PROPERTY Boro-Block-Lot  \\\n",
              "0                                  1-00007-7501   \n",
              "1                                  1-00015-7502   \n",
              "2                                  1-00016-7501   \n",
              "3                                  1-00016-7502   \n",
              "4                                  1-00016-7503   \n",
              "\n",
              "  MANHATTAN CONDOMINIUM PROPERTY Condo Section  \\\n",
              "0                                       735-R1   \n",
              "1                                      1557-R1   \n",
              "2                                       308-R1   \n",
              "3                                       313-R1   \n",
              "4                                       385-R1   \n",
              "\n",
              "  MANHATTAN CONDOMINIUM PROPERTY Address  Borough  Postcode   Latitude  \\\n",
              "0                        1 COENTIES SLIP        1   10004.0  40.703627   \n",
              "1                         20 WEST STREET        1   10004.0  40.706358   \n",
              "2                       377 RECTOR PLACE        1   10280.0  40.709506   \n",
              "3                      320 ALBANY STREET        1   10280.0  40.710165   \n",
              "4                   250 SOUTH END AVENUE        1   10280.0  40.709709   \n",
              "\n",
              "   Longitude  Community Board  Council District Census Tract  ...  \\\n",
              "0 -74.010607              1.0               1.0            9  ...   \n",
              "1 -74.016151              1.0               1.0           13  ...   \n",
              "2 -74.018002              1.0               1.0       31,704  ...   \n",
              "3 -74.016751              1.0               1.0       31,704  ...   \n",
              "4 -74.016560              1.0               1.0       31,704  ...   \n",
              "\n",
              "  COMPARABLE RENTAL 2  Neighborhood  \\\n",
              "0                       SOUTHBRIDGE   \n",
              "1                         FINANCIAL   \n",
              "2                           TRIBECA   \n",
              "3                           TRIBECA   \n",
              "4                           TRIBECA   \n",
              "\n",
              "  COMPARABLE RENTAL 2  Building Classification  \\\n",
              "0                                   C7-WALK-UP   \n",
              "1                                  D8-ELEVATOR   \n",
              "2                                  D8-ELEVATOR   \n",
              "3                                  D8-ELEVATOR   \n",
              "4                                  D8-ELEVATOR   \n",
              "\n",
              "  COMPARABLE RENTAL 2  Total Units COMPARABLE RENTAL 2  Year Built  \\\n",
              "0                               12                           1,900   \n",
              "1                              650                           2,003   \n",
              "2                              341                           1,998   \n",
              "3                              341                           1,998   \n",
              "4                              341                           1,998   \n",
              "\n",
              "  COMPARABLE RENTAL 2  Gross SqFt COMPARABLE RENTAL 2  Est. Gross Income  \\\n",
              "0                          17,475                                732,000   \n",
              "1                         627,330                             25,002,565   \n",
              "2                         357,000                             13,358,015   \n",
              "3                         357,000                             13,358,015   \n",
              "4                         357,000                             13,358,015   \n",
              "\n",
              "  COMPARABLE RENTAL 2  Gross Income per SqFt  \\\n",
              "0                                       41.9   \n",
              "1                                       39.9   \n",
              "2                                       37.4   \n",
              "3                                       37.4   \n",
              "4                                       37.4   \n",
              "\n",
              "  COMPARABLE RENTAL 2  Full Market Value  \\\n",
              "0                              3,670,000   \n",
              "1                            125,000,000   \n",
              "2                             67,000,000   \n",
              "3                             67,000,000   \n",
              "4                             67,000,000   \n",
              "\n",
              "  COMPARABLE RENTAL 2  Market Value per SqFt  \\\n",
              "0                                      210.0   \n",
              "1                                      199.0   \n",
              "2                                      188.0   \n",
              "3                                      188.0   \n",
              "4                                      188.0   \n",
              "\n",
              "   COMPARABLE RENTAL 2  Dist. from Coop in miles  \n",
              "0                                           0.55  \n",
              "1                                           0.50  \n",
              "2                                           0.00  \n",
              "3                                           0.00  \n",
              "4                                           0.00  \n",
              "\n",
              "[5 rows x 46 columns]"
            ],
            "text/html": [
              "\n",
              "  <div id=\"df-ccd54a73-bb5c-4868-b9ef-d824574d8192\">\n",
              "    <div class=\"colab-df-container\">\n",
              "      <div>\n",
              "<style scoped>\n",
              "    .dataframe tbody tr th:only-of-type {\n",
              "        vertical-align: middle;\n",
              "    }\n",
              "\n",
              "    .dataframe tbody tr th {\n",
              "        vertical-align: top;\n",
              "    }\n",
              "\n",
              "    .dataframe thead th {\n",
              "        text-align: right;\n",
              "    }\n",
              "</style>\n",
              "<table border=\"1\" class=\"dataframe\">\n",
              "  <thead>\n",
              "    <tr style=\"text-align: right;\">\n",
              "      <th></th>\n",
              "      <th>MANHATTAN CONDOMINIUM PROPERTY Boro-Block-Lot</th>\n",
              "      <th>MANHATTAN CONDOMINIUM PROPERTY Condo Section</th>\n",
              "      <th>MANHATTAN CONDOMINIUM PROPERTY Address</th>\n",
              "      <th>Borough</th>\n",
              "      <th>Postcode</th>\n",
              "      <th>Latitude</th>\n",
              "      <th>Longitude</th>\n",
              "      <th>Community Board</th>\n",
              "      <th>Council District</th>\n",
              "      <th>Census Tract</th>\n",
              "      <th>...</th>\n",
              "      <th>COMPARABLE RENTAL 2  Neighborhood</th>\n",
              "      <th>COMPARABLE RENTAL 2  Building Classification</th>\n",
              "      <th>COMPARABLE RENTAL 2  Total Units</th>\n",
              "      <th>COMPARABLE RENTAL 2  Year Built</th>\n",
              "      <th>COMPARABLE RENTAL 2  Gross SqFt</th>\n",
              "      <th>COMPARABLE RENTAL 2  Est. Gross Income</th>\n",
              "      <th>COMPARABLE RENTAL 2  Gross Income per SqFt</th>\n",
              "      <th>COMPARABLE RENTAL 2  Full Market Value</th>\n",
              "      <th>COMPARABLE RENTAL 2  Market Value per SqFt</th>\n",
              "      <th>COMPARABLE RENTAL 2  Dist. from Coop in miles</th>\n",
              "    </tr>\n",
              "  </thead>\n",
              "  <tbody>\n",
              "    <tr>\n",
              "      <th>0</th>\n",
              "      <td>1-00007-7501</td>\n",
              "      <td>735-R1</td>\n",
              "      <td>1 COENTIES SLIP</td>\n",
              "      <td>1</td>\n",
              "      <td>10004.0</td>\n",
              "      <td>40.703627</td>\n",
              "      <td>-74.010607</td>\n",
              "      <td>1.0</td>\n",
              "      <td>1.0</td>\n",
              "      <td>9</td>\n",
              "      <td>...</td>\n",
              "      <td>SOUTHBRIDGE</td>\n",
              "      <td>C7-WALK-UP</td>\n",
              "      <td>12</td>\n",
              "      <td>1,900</td>\n",
              "      <td>17,475</td>\n",
              "      <td>732,000</td>\n",
              "      <td>41.9</td>\n",
              "      <td>3,670,000</td>\n",
              "      <td>210.0</td>\n",
              "      <td>0.55</td>\n",
              "    </tr>\n",
              "    <tr>\n",
              "      <th>1</th>\n",
              "      <td>1-00015-7502</td>\n",
              "      <td>1557-R1</td>\n",
              "      <td>20 WEST STREET</td>\n",
              "      <td>1</td>\n",
              "      <td>10004.0</td>\n",
              "      <td>40.706358</td>\n",
              "      <td>-74.016151</td>\n",
              "      <td>1.0</td>\n",
              "      <td>1.0</td>\n",
              "      <td>13</td>\n",
              "      <td>...</td>\n",
              "      <td>FINANCIAL</td>\n",
              "      <td>D8-ELEVATOR</td>\n",
              "      <td>650</td>\n",
              "      <td>2,003</td>\n",
              "      <td>627,330</td>\n",
              "      <td>25,002,565</td>\n",
              "      <td>39.9</td>\n",
              "      <td>125,000,000</td>\n",
              "      <td>199.0</td>\n",
              "      <td>0.50</td>\n",
              "    </tr>\n",
              "    <tr>\n",
              "      <th>2</th>\n",
              "      <td>1-00016-7501</td>\n",
              "      <td>308-R1</td>\n",
              "      <td>377 RECTOR PLACE</td>\n",
              "      <td>1</td>\n",
              "      <td>10280.0</td>\n",
              "      <td>40.709506</td>\n",
              "      <td>-74.018002</td>\n",
              "      <td>1.0</td>\n",
              "      <td>1.0</td>\n",
              "      <td>31,704</td>\n",
              "      <td>...</td>\n",
              "      <td>TRIBECA</td>\n",
              "      <td>D8-ELEVATOR</td>\n",
              "      <td>341</td>\n",
              "      <td>1,998</td>\n",
              "      <td>357,000</td>\n",
              "      <td>13,358,015</td>\n",
              "      <td>37.4</td>\n",
              "      <td>67,000,000</td>\n",
              "      <td>188.0</td>\n",
              "      <td>0.00</td>\n",
              "    </tr>\n",
              "    <tr>\n",
              "      <th>3</th>\n",
              "      <td>1-00016-7502</td>\n",
              "      <td>313-R1</td>\n",
              "      <td>320 ALBANY STREET</td>\n",
              "      <td>1</td>\n",
              "      <td>10280.0</td>\n",
              "      <td>40.710165</td>\n",
              "      <td>-74.016751</td>\n",
              "      <td>1.0</td>\n",
              "      <td>1.0</td>\n",
              "      <td>31,704</td>\n",
              "      <td>...</td>\n",
              "      <td>TRIBECA</td>\n",
              "      <td>D8-ELEVATOR</td>\n",
              "      <td>341</td>\n",
              "      <td>1,998</td>\n",
              "      <td>357,000</td>\n",
              "      <td>13,358,015</td>\n",
              "      <td>37.4</td>\n",
              "      <td>67,000,000</td>\n",
              "      <td>188.0</td>\n",
              "      <td>0.00</td>\n",
              "    </tr>\n",
              "    <tr>\n",
              "      <th>4</th>\n",
              "      <td>1-00016-7503</td>\n",
              "      <td>385-R1</td>\n",
              "      <td>250 SOUTH END AVENUE</td>\n",
              "      <td>1</td>\n",
              "      <td>10280.0</td>\n",
              "      <td>40.709709</td>\n",
              "      <td>-74.016560</td>\n",
              "      <td>1.0</td>\n",
              "      <td>1.0</td>\n",
              "      <td>31,704</td>\n",
              "      <td>...</td>\n",
              "      <td>TRIBECA</td>\n",
              "      <td>D8-ELEVATOR</td>\n",
              "      <td>341</td>\n",
              "      <td>1,998</td>\n",
              "      <td>357,000</td>\n",
              "      <td>13,358,015</td>\n",
              "      <td>37.4</td>\n",
              "      <td>67,000,000</td>\n",
              "      <td>188.0</td>\n",
              "      <td>0.00</td>\n",
              "    </tr>\n",
              "  </tbody>\n",
              "</table>\n",
              "<p>5 rows × 46 columns</p>\n",
              "</div>\n",
              "      <button class=\"colab-df-convert\" onclick=\"convertToInteractive('df-ccd54a73-bb5c-4868-b9ef-d824574d8192')\"\n",
              "              title=\"Convert this dataframe to an interactive table.\"\n",
              "              style=\"display:none;\">\n",
              "        \n",
              "  <svg xmlns=\"http://www.w3.org/2000/svg\" height=\"24px\"viewBox=\"0 0 24 24\"\n",
              "       width=\"24px\">\n",
              "    <path d=\"M0 0h24v24H0V0z\" fill=\"none\"/>\n",
              "    <path d=\"M18.56 5.44l.94 2.06.94-2.06 2.06-.94-2.06-.94-.94-2.06-.94 2.06-2.06.94zm-11 1L8.5 8.5l.94-2.06 2.06-.94-2.06-.94L8.5 2.5l-.94 2.06-2.06.94zm10 10l.94 2.06.94-2.06 2.06-.94-2.06-.94-.94-2.06-.94 2.06-2.06.94z\"/><path d=\"M17.41 7.96l-1.37-1.37c-.4-.4-.92-.59-1.43-.59-.52 0-1.04.2-1.43.59L10.3 9.45l-7.72 7.72c-.78.78-.78 2.05 0 2.83L4 21.41c.39.39.9.59 1.41.59.51 0 1.02-.2 1.41-.59l7.78-7.78 2.81-2.81c.8-.78.8-2.07 0-2.86zM5.41 20L4 18.59l7.72-7.72 1.47 1.35L5.41 20z\"/>\n",
              "  </svg>\n",
              "      </button>\n",
              "      \n",
              "  <style>\n",
              "    .colab-df-container {\n",
              "      display:flex;\n",
              "      flex-wrap:wrap;\n",
              "      gap: 12px;\n",
              "    }\n",
              "\n",
              "    .colab-df-convert {\n",
              "      background-color: #E8F0FE;\n",
              "      border: none;\n",
              "      border-radius: 50%;\n",
              "      cursor: pointer;\n",
              "      display: none;\n",
              "      fill: #1967D2;\n",
              "      height: 32px;\n",
              "      padding: 0 0 0 0;\n",
              "      width: 32px;\n",
              "    }\n",
              "\n",
              "    .colab-df-convert:hover {\n",
              "      background-color: #E2EBFA;\n",
              "      box-shadow: 0px 1px 2px rgba(60, 64, 67, 0.3), 0px 1px 3px 1px rgba(60, 64, 67, 0.15);\n",
              "      fill: #174EA6;\n",
              "    }\n",
              "\n",
              "    [theme=dark] .colab-df-convert {\n",
              "      background-color: #3B4455;\n",
              "      fill: #D2E3FC;\n",
              "    }\n",
              "\n",
              "    [theme=dark] .colab-df-convert:hover {\n",
              "      background-color: #434B5C;\n",
              "      box-shadow: 0px 1px 3px 1px rgba(0, 0, 0, 0.15);\n",
              "      filter: drop-shadow(0px 1px 2px rgba(0, 0, 0, 0.3));\n",
              "      fill: #FFFFFF;\n",
              "    }\n",
              "  </style>\n",
              "\n",
              "      <script>\n",
              "        const buttonEl =\n",
              "          document.querySelector('#df-ccd54a73-bb5c-4868-b9ef-d824574d8192 button.colab-df-convert');\n",
              "        buttonEl.style.display =\n",
              "          google.colab.kernel.accessAllowed ? 'block' : 'none';\n",
              "\n",
              "        async function convertToInteractive(key) {\n",
              "          const element = document.querySelector('#df-ccd54a73-bb5c-4868-b9ef-d824574d8192');\n",
              "          const dataTable =\n",
              "            await google.colab.kernel.invokeFunction('convertToInteractive',\n",
              "                                                     [key], {});\n",
              "          if (!dataTable) return;\n",
              "\n",
              "          const docLinkHtml = 'Like what you see? Visit the ' +\n",
              "            '<a target=\"_blank\" href=https://colab.research.google.com/notebooks/data_table.ipynb>data table notebook</a>'\n",
              "            + ' to learn more about interactive tables.';\n",
              "          element.innerHTML = '';\n",
              "          dataTable['output_type'] = 'display_data';\n",
              "          await google.colab.output.renderOutput(dataTable, element);\n",
              "          const docLink = document.createElement('div');\n",
              "          docLink.innerHTML = docLinkHtml;\n",
              "          element.appendChild(docLink);\n",
              "        }\n",
              "      </script>\n",
              "    </div>\n",
              "  </div>\n",
              "  "
            ]
          },
          "metadata": {},
          "execution_count": 30
        }
      ]
    },
    {
      "cell_type": "code",
      "source": [
        "df2.shape"
      ],
      "metadata": {
        "colab": {
          "base_uri": "https://localhost:8080/"
        },
        "id": "N_xqH5M8QOh5",
        "outputId": "5e28a641-8a14-4a1c-e9e7-0e6f13574971"
      },
      "execution_count": 17,
      "outputs": [
        {
          "output_type": "execute_result",
          "data": {
            "text/plain": [
              "(11429, 18)"
            ]
          },
          "metadata": {},
          "execution_count": 17
        }
      ]
    },
    {
      "cell_type": "markdown",
      "source": [
        "## **PRIMARY DATASET**"
      ],
      "metadata": {
        "id": "E5h35MZdRdKN"
      }
    },
    {
      "cell_type": "code",
      "source": [
        "data = '/content/drive/MyDrive/SI/Vienna Austria Airbnb.csv'\n",
        "df = pd.read_csv(data)\n",
        "\n",
        "df.head(5)"
      ],
      "metadata": {
        "colab": {
          "base_uri": "https://localhost:8080/",
          "height": 461
        },
        "id": "fo4cioYlN1Sv",
        "outputId": "b6c4694b-8767-4a7f-9a3e-e1e3871ce77c"
      },
      "execution_count": 29,
      "outputs": [
        {
          "output_type": "execute_result",
          "data": {
            "text/plain": [
              "      id                                               name  host_id  \\\n",
              "0  15883                          b&b near Old Danube river    62142   \n",
              "1  38768   central cityapartement- wifi- nice neighbourhood   166283   \n",
              "2  40625                     Near Palace Schönbrunn, Apt. 1   175131   \n",
              "3  51287  little studio- next to citycenter- wifi- nice ...   166283   \n",
              "4  70637                    Flat in the Center with Terrace   358842   \n",
              "\n",
              "  host_name  neighbourhood_group         neighbourhood  latitude  longitude  \\\n",
              "0       Eva                  NaN            Donaustadt  48.24262   16.42767   \n",
              "1    Hannes                  NaN          Leopoldstadt  48.21924   16.37831   \n",
              "2    Ingela                  NaN  Rudolfsheim-Fnfhaus  48.18434   16.32701   \n",
              "3    Hannes                  NaN          Leopoldstadt  48.21778   16.37847   \n",
              "4      Elxe                  NaN          Leopoldstadt  48.21760   16.38018   \n",
              "\n",
              "         room_type  price  minimum_nights  number_of_reviews last_review  \\\n",
              "0       Hotel room    120               1                 14  2021-10-07   \n",
              "1  Entire home/apt     66               3                336  2021-11-14   \n",
              "2  Entire home/apt    156               1                162  2021-11-01   \n",
              "3  Entire home/apt     62               3                327  2021-11-22   \n",
              "4     Private room     50               2                117  2021-06-25   \n",
              "\n",
              "   reviews_per_month  calculated_host_listings_count  availability_365  \\\n",
              "0               0.17                               3               364   \n",
              "1               2.57                               3               124   \n",
              "2               1.17                              15               306   \n",
              "3               2.47                               3               136   \n",
              "4               0.90                               3               333   \n",
              "\n",
              "   number_of_reviews_ltm  license  \n",
              "0                      3      NaN  \n",
              "1                     13      NaN  \n",
              "2                      7      NaN  \n",
              "3                     18      NaN  \n",
              "4                      1      NaN  "
            ],
            "text/html": [
              "\n",
              "  <div id=\"df-ef6f3af8-c328-4dec-a7ad-5bf10147b2a6\">\n",
              "    <div class=\"colab-df-container\">\n",
              "      <div>\n",
              "<style scoped>\n",
              "    .dataframe tbody tr th:only-of-type {\n",
              "        vertical-align: middle;\n",
              "    }\n",
              "\n",
              "    .dataframe tbody tr th {\n",
              "        vertical-align: top;\n",
              "    }\n",
              "\n",
              "    .dataframe thead th {\n",
              "        text-align: right;\n",
              "    }\n",
              "</style>\n",
              "<table border=\"1\" class=\"dataframe\">\n",
              "  <thead>\n",
              "    <tr style=\"text-align: right;\">\n",
              "      <th></th>\n",
              "      <th>id</th>\n",
              "      <th>name</th>\n",
              "      <th>host_id</th>\n",
              "      <th>host_name</th>\n",
              "      <th>neighbourhood_group</th>\n",
              "      <th>neighbourhood</th>\n",
              "      <th>latitude</th>\n",
              "      <th>longitude</th>\n",
              "      <th>room_type</th>\n",
              "      <th>price</th>\n",
              "      <th>minimum_nights</th>\n",
              "      <th>number_of_reviews</th>\n",
              "      <th>last_review</th>\n",
              "      <th>reviews_per_month</th>\n",
              "      <th>calculated_host_listings_count</th>\n",
              "      <th>availability_365</th>\n",
              "      <th>number_of_reviews_ltm</th>\n",
              "      <th>license</th>\n",
              "    </tr>\n",
              "  </thead>\n",
              "  <tbody>\n",
              "    <tr>\n",
              "      <th>0</th>\n",
              "      <td>15883</td>\n",
              "      <td>b&amp;b near Old Danube river</td>\n",
              "      <td>62142</td>\n",
              "      <td>Eva</td>\n",
              "      <td>NaN</td>\n",
              "      <td>Donaustadt</td>\n",
              "      <td>48.24262</td>\n",
              "      <td>16.42767</td>\n",
              "      <td>Hotel room</td>\n",
              "      <td>120</td>\n",
              "      <td>1</td>\n",
              "      <td>14</td>\n",
              "      <td>2021-10-07</td>\n",
              "      <td>0.17</td>\n",
              "      <td>3</td>\n",
              "      <td>364</td>\n",
              "      <td>3</td>\n",
              "      <td>NaN</td>\n",
              "    </tr>\n",
              "    <tr>\n",
              "      <th>1</th>\n",
              "      <td>38768</td>\n",
              "      <td>central cityapartement- wifi- nice neighbourhood</td>\n",
              "      <td>166283</td>\n",
              "      <td>Hannes</td>\n",
              "      <td>NaN</td>\n",
              "      <td>Leopoldstadt</td>\n",
              "      <td>48.21924</td>\n",
              "      <td>16.37831</td>\n",
              "      <td>Entire home/apt</td>\n",
              "      <td>66</td>\n",
              "      <td>3</td>\n",
              "      <td>336</td>\n",
              "      <td>2021-11-14</td>\n",
              "      <td>2.57</td>\n",
              "      <td>3</td>\n",
              "      <td>124</td>\n",
              "      <td>13</td>\n",
              "      <td>NaN</td>\n",
              "    </tr>\n",
              "    <tr>\n",
              "      <th>2</th>\n",
              "      <td>40625</td>\n",
              "      <td>Near Palace Schönbrunn, Apt. 1</td>\n",
              "      <td>175131</td>\n",
              "      <td>Ingela</td>\n",
              "      <td>NaN</td>\n",
              "      <td>Rudolfsheim-Fnfhaus</td>\n",
              "      <td>48.18434</td>\n",
              "      <td>16.32701</td>\n",
              "      <td>Entire home/apt</td>\n",
              "      <td>156</td>\n",
              "      <td>1</td>\n",
              "      <td>162</td>\n",
              "      <td>2021-11-01</td>\n",
              "      <td>1.17</td>\n",
              "      <td>15</td>\n",
              "      <td>306</td>\n",
              "      <td>7</td>\n",
              "      <td>NaN</td>\n",
              "    </tr>\n",
              "    <tr>\n",
              "      <th>3</th>\n",
              "      <td>51287</td>\n",
              "      <td>little studio- next to citycenter- wifi- nice ...</td>\n",
              "      <td>166283</td>\n",
              "      <td>Hannes</td>\n",
              "      <td>NaN</td>\n",
              "      <td>Leopoldstadt</td>\n",
              "      <td>48.21778</td>\n",
              "      <td>16.37847</td>\n",
              "      <td>Entire home/apt</td>\n",
              "      <td>62</td>\n",
              "      <td>3</td>\n",
              "      <td>327</td>\n",
              "      <td>2021-11-22</td>\n",
              "      <td>2.47</td>\n",
              "      <td>3</td>\n",
              "      <td>136</td>\n",
              "      <td>18</td>\n",
              "      <td>NaN</td>\n",
              "    </tr>\n",
              "    <tr>\n",
              "      <th>4</th>\n",
              "      <td>70637</td>\n",
              "      <td>Flat in the Center with Terrace</td>\n",
              "      <td>358842</td>\n",
              "      <td>Elxe</td>\n",
              "      <td>NaN</td>\n",
              "      <td>Leopoldstadt</td>\n",
              "      <td>48.21760</td>\n",
              "      <td>16.38018</td>\n",
              "      <td>Private room</td>\n",
              "      <td>50</td>\n",
              "      <td>2</td>\n",
              "      <td>117</td>\n",
              "      <td>2021-06-25</td>\n",
              "      <td>0.90</td>\n",
              "      <td>3</td>\n",
              "      <td>333</td>\n",
              "      <td>1</td>\n",
              "      <td>NaN</td>\n",
              "    </tr>\n",
              "  </tbody>\n",
              "</table>\n",
              "</div>\n",
              "      <button class=\"colab-df-convert\" onclick=\"convertToInteractive('df-ef6f3af8-c328-4dec-a7ad-5bf10147b2a6')\"\n",
              "              title=\"Convert this dataframe to an interactive table.\"\n",
              "              style=\"display:none;\">\n",
              "        \n",
              "  <svg xmlns=\"http://www.w3.org/2000/svg\" height=\"24px\"viewBox=\"0 0 24 24\"\n",
              "       width=\"24px\">\n",
              "    <path d=\"M0 0h24v24H0V0z\" fill=\"none\"/>\n",
              "    <path d=\"M18.56 5.44l.94 2.06.94-2.06 2.06-.94-2.06-.94-.94-2.06-.94 2.06-2.06.94zm-11 1L8.5 8.5l.94-2.06 2.06-.94-2.06-.94L8.5 2.5l-.94 2.06-2.06.94zm10 10l.94 2.06.94-2.06 2.06-.94-2.06-.94-.94-2.06-.94 2.06-2.06.94z\"/><path d=\"M17.41 7.96l-1.37-1.37c-.4-.4-.92-.59-1.43-.59-.52 0-1.04.2-1.43.59L10.3 9.45l-7.72 7.72c-.78.78-.78 2.05 0 2.83L4 21.41c.39.39.9.59 1.41.59.51 0 1.02-.2 1.41-.59l7.78-7.78 2.81-2.81c.8-.78.8-2.07 0-2.86zM5.41 20L4 18.59l7.72-7.72 1.47 1.35L5.41 20z\"/>\n",
              "  </svg>\n",
              "      </button>\n",
              "      \n",
              "  <style>\n",
              "    .colab-df-container {\n",
              "      display:flex;\n",
              "      flex-wrap:wrap;\n",
              "      gap: 12px;\n",
              "    }\n",
              "\n",
              "    .colab-df-convert {\n",
              "      background-color: #E8F0FE;\n",
              "      border: none;\n",
              "      border-radius: 50%;\n",
              "      cursor: pointer;\n",
              "      display: none;\n",
              "      fill: #1967D2;\n",
              "      height: 32px;\n",
              "      padding: 0 0 0 0;\n",
              "      width: 32px;\n",
              "    }\n",
              "\n",
              "    .colab-df-convert:hover {\n",
              "      background-color: #E2EBFA;\n",
              "      box-shadow: 0px 1px 2px rgba(60, 64, 67, 0.3), 0px 1px 3px 1px rgba(60, 64, 67, 0.15);\n",
              "      fill: #174EA6;\n",
              "    }\n",
              "\n",
              "    [theme=dark] .colab-df-convert {\n",
              "      background-color: #3B4455;\n",
              "      fill: #D2E3FC;\n",
              "    }\n",
              "\n",
              "    [theme=dark] .colab-df-convert:hover {\n",
              "      background-color: #434B5C;\n",
              "      box-shadow: 0px 1px 3px 1px rgba(0, 0, 0, 0.15);\n",
              "      filter: drop-shadow(0px 1px 2px rgba(0, 0, 0, 0.3));\n",
              "      fill: #FFFFFF;\n",
              "    }\n",
              "  </style>\n",
              "\n",
              "      <script>\n",
              "        const buttonEl =\n",
              "          document.querySelector('#df-ef6f3af8-c328-4dec-a7ad-5bf10147b2a6 button.colab-df-convert');\n",
              "        buttonEl.style.display =\n",
              "          google.colab.kernel.accessAllowed ? 'block' : 'none';\n",
              "\n",
              "        async function convertToInteractive(key) {\n",
              "          const element = document.querySelector('#df-ef6f3af8-c328-4dec-a7ad-5bf10147b2a6');\n",
              "          const dataTable =\n",
              "            await google.colab.kernel.invokeFunction('convertToInteractive',\n",
              "                                                     [key], {});\n",
              "          if (!dataTable) return;\n",
              "\n",
              "          const docLinkHtml = 'Like what you see? Visit the ' +\n",
              "            '<a target=\"_blank\" href=https://colab.research.google.com/notebooks/data_table.ipynb>data table notebook</a>'\n",
              "            + ' to learn more about interactive tables.';\n",
              "          element.innerHTML = '';\n",
              "          dataTable['output_type'] = 'display_data';\n",
              "          await google.colab.output.renderOutput(dataTable, element);\n",
              "          const docLink = document.createElement('div');\n",
              "          docLink.innerHTML = docLinkHtml;\n",
              "          element.appendChild(docLink);\n",
              "        }\n",
              "      </script>\n",
              "    </div>\n",
              "  </div>\n",
              "  "
            ]
          },
          "metadata": {},
          "execution_count": 29
        }
      ]
    },
    {
      "cell_type": "markdown",
      "source": [
        "1) Source of data:\n",
        "\n",
        "http://insideairbnb.com/get-the-data/\n",
        "\n",
        "2) Brief description of data.\n",
        "\n",
        "  Rental metrics for AirBnB hosts in Vienna Austria. \n",
        "\n",
        "3) What is the target?\n",
        "\n",
        "  Number of reviews.\n",
        "\n",
        "4) Is this a classification or regression problem?\n",
        "\n",
        "  This is regression problem as the target value is not limited to a finite number of classes or values. \n",
        "\n",
        "5) How many features?\n",
        "\n",
        "  18-1(target) columns = 17 features. \n",
        "\n",
        "6) How many rows of data.\n",
        "\n",
        "  11429\n",
        "\n",
        "7) What, if any, challenges do you foresee in cleaning, exploring, or modeling with this dataset?\n",
        "\n",
        "At a glance there are several columns that appear to be irrelevant to our target. I wonder if this dataset contains enough relevant features to make a meaningful prediction."
      ],
      "metadata": {
        "id": "tmHxf8soP0zf"
      }
    },
    {
      "cell_type": "code",
      "source": [
        "df.shape"
      ],
      "metadata": {
        "colab": {
          "base_uri": "https://localhost:8080/"
        },
        "id": "vqa7Xj7p8l0J",
        "outputId": "a2d93ead-7733-4b9d-97b7-ca59a56b307b"
      },
      "execution_count": 19,
      "outputs": [
        {
          "output_type": "execute_result",
          "data": {
            "text/plain": [
              "(1068, 46)"
            ]
          },
          "metadata": {},
          "execution_count": 19
        }
      ]
    },
    {
      "cell_type": "code",
      "source": [
        "# # Unadulterated copy for Machine Learning:\n",
        "\n",
        "df_ML = df.copy()"
      ],
      "metadata": {
        "id": "1-Tdu68R2hLp"
      },
      "execution_count": 20,
      "outputs": []
    },
    {
      "cell_type": "code",
      "source": [
        "df.info()"
      ],
      "metadata": {
        "colab": {
          "base_uri": "https://localhost:8080/"
        },
        "id": "bybRXbvQ1sPf",
        "outputId": "053ace73-a634-46a3-b58e-37c629018425"
      },
      "execution_count": 33,
      "outputs": [
        {
          "output_type": "stream",
          "name": "stdout",
          "text": [
            "<class 'pandas.core.frame.DataFrame'>\n",
            "RangeIndex: 11429 entries, 0 to 11428\n",
            "Data columns (total 18 columns):\n",
            " #   Column                          Non-Null Count  Dtype  \n",
            "---  ------                          --------------  -----  \n",
            " 0   id                              11429 non-null  int64  \n",
            " 1   name                            11416 non-null  object \n",
            " 2   host_id                         11429 non-null  int64  \n",
            " 3   host_name                       11411 non-null  object \n",
            " 4   neighbourhood_group             0 non-null      float64\n",
            " 5   neighbourhood                   11429 non-null  object \n",
            " 6   latitude                        11429 non-null  float64\n",
            " 7   longitude                       11429 non-null  float64\n",
            " 8   room_type                       11429 non-null  object \n",
            " 9   price                           11429 non-null  int64  \n",
            " 10  minimum_nights                  11429 non-null  int64  \n",
            " 11  number_of_reviews               11429 non-null  int64  \n",
            " 12  last_review                     9091 non-null   object \n",
            " 13  reviews_per_month               9091 non-null   float64\n",
            " 14  calculated_host_listings_count  11429 non-null  int64  \n",
            " 15  availability_365                11429 non-null  int64  \n",
            " 16  number_of_reviews_ltm           11429 non-null  int64  \n",
            " 17  license                         0 non-null      float64\n",
            "dtypes: float64(5), int64(8), object(5)\n",
            "memory usage: 1.6+ MB\n"
          ]
        }
      ]
    },
    {
      "cell_type": "code",
      "source": [
        "# Changing all column names to lowercase:\n",
        "\n",
        "df.columns = df.columns.str.lower()"
      ],
      "metadata": {
        "id": "4Z5e9qre7z5L"
      },
      "execution_count": 40,
      "outputs": []
    },
    {
      "cell_type": "code",
      "source": [
        "df.info()"
      ],
      "metadata": {
        "colab": {
          "base_uri": "https://localhost:8080/"
        },
        "id": "lU62qOiPalo1",
        "outputId": "a0c0b47e-0e54-4a2b-8e08-dde7d6e6e28d"
      },
      "execution_count": 41,
      "outputs": [
        {
          "output_type": "stream",
          "name": "stdout",
          "text": [
            "<class 'pandas.core.frame.DataFrame'>\n",
            "RangeIndex: 11429 entries, 0 to 11428\n",
            "Data columns (total 18 columns):\n",
            " #   Column                          Non-Null Count  Dtype  \n",
            "---  ------                          --------------  -----  \n",
            " 0   id                              11429 non-null  int64  \n",
            " 1   name                            11416 non-null  object \n",
            " 2   host_id                         11429 non-null  int64  \n",
            " 3   host_name                       11411 non-null  object \n",
            " 4   neighbourhood_group             0 non-null      float64\n",
            " 5   neighbourhood                   11429 non-null  object \n",
            " 6   latitude                        11429 non-null  float64\n",
            " 7   longitude                       11429 non-null  float64\n",
            " 8   room_type                       11429 non-null  object \n",
            " 9   price                           11429 non-null  int64  \n",
            " 10  minimum_nights                  11429 non-null  int64  \n",
            " 11  number_of_reviews               11429 non-null  int64  \n",
            " 12  last_review                     9091 non-null   object \n",
            " 13  reviews_per_month               9091 non-null   float64\n",
            " 14  calculated_host_listings_count  11429 non-null  int64  \n",
            " 15  availability_365                11429 non-null  int64  \n",
            " 16  number_of_reviews_ltm           11429 non-null  int64  \n",
            " 17  license                         0 non-null      float64\n",
            "dtypes: float64(5), int64(8), object(5)\n",
            "memory usage: 1.6+ MB\n"
          ]
        }
      ]
    },
    {
      "cell_type": "code",
      "source": [
        "# Shape of data frame:\n",
        "\n",
        "df.shape\n",
        "\n",
        "# 11429 rows \n",
        "# 18 columns"
      ],
      "metadata": {
        "colab": {
          "base_uri": "https://localhost:8080/"
        },
        "id": "2vM4ZlCL2Htd",
        "outputId": "667ecec2-0833-4dba-d237-e11858e63f8b"
      },
      "execution_count": 35,
      "outputs": [
        {
          "output_type": "execute_result",
          "data": {
            "text/plain": [
              "(11429, 18)"
            ]
          },
          "metadata": {},
          "execution_count": 35
        }
      ]
    },
    {
      "cell_type": "markdown",
      "source": [
        "##**DATA CLEANING & PREPARATION**"
      ],
      "metadata": {
        "id": "I84N5rIH2wYO"
      }
    },
    {
      "cell_type": "code",
      "source": [
        "# Check for duplciated rows:\n",
        "\n",
        "df.duplicated().sum()"
      ],
      "metadata": {
        "colab": {
          "base_uri": "https://localhost:8080/"
        },
        "id": "eZpq85cv3j0P",
        "outputId": "6e242c86-de28-4e7e-b50f-7f0773770f1a"
      },
      "execution_count": 36,
      "outputs": [
        {
          "output_type": "execute_result",
          "data": {
            "text/plain": [
              "0"
            ]
          },
          "metadata": {},
          "execution_count": 36
        }
      ]
    },
    {
      "cell_type": "code",
      "source": [
        "# Removal of ineffectual columns:\n",
        "remove = {'id', 'name','host_id', 'host_name', 'neighbourhood_group', 'license'}\n",
        "df.drop(columns = remove, inplace = True)"
      ],
      "metadata": {
        "id": "NY3Up5edAjWP"
      },
      "execution_count": 42,
      "outputs": []
    },
    {
      "cell_type": "code",
      "source": [
        "# Check for missing values:\n",
        "\n",
        "df.isna().sum()"
      ],
      "metadata": {
        "colab": {
          "base_uri": "https://localhost:8080/"
        },
        "id": "UIFjJTHR2xjW",
        "outputId": "66cc9c44-f809-4bc8-c115-2a402581675e"
      },
      "execution_count": 43,
      "outputs": [
        {
          "output_type": "execute_result",
          "data": {
            "text/plain": [
              "neighbourhood                        0\n",
              "latitude                             0\n",
              "longitude                            0\n",
              "room_type                            0\n",
              "price                                0\n",
              "minimum_nights                       0\n",
              "number_of_reviews                    0\n",
              "last_review                       2338\n",
              "reviews_per_month                 2338\n",
              "calculated_host_listings_count       0\n",
              "availability_365                     0\n",
              "number_of_reviews_ltm                0\n",
              "dtype: int64"
            ]
          },
          "metadata": {},
          "execution_count": 43
        }
      ]
    },
    {
      "cell_type": "code",
      "source": [
        "# Imputation:\n",
        "\n"
      ],
      "metadata": {
        "id": "uzuVUgRuboLU",
        "colab": {
          "base_uri": "https://localhost:8080/",
          "height": 515
        },
        "outputId": "7dab6a74-666a-43be-f109-4d7d0d9d45a2"
      },
      "execution_count": 27,
      "outputs": [
        {
          "output_type": "error",
          "ename": "KeyError",
          "evalue": "ignored",
          "traceback": [
            "\u001b[0;31m---------------------------------------------------------------------------\u001b[0m",
            "\u001b[0;31mKeyError\u001b[0m                                  Traceback (most recent call last)",
            "\u001b[0;32m/usr/local/lib/python3.7/dist-packages/pandas/core/indexes/base.py\u001b[0m in \u001b[0;36mget_loc\u001b[0;34m(self, key, method, tolerance)\u001b[0m\n\u001b[1;32m   3360\u001b[0m             \u001b[0;32mtry\u001b[0m\u001b[0;34m:\u001b[0m\u001b[0;34m\u001b[0m\u001b[0;34m\u001b[0m\u001b[0m\n\u001b[0;32m-> 3361\u001b[0;31m                 \u001b[0;32mreturn\u001b[0m \u001b[0mself\u001b[0m\u001b[0;34m.\u001b[0m\u001b[0m_engine\u001b[0m\u001b[0;34m.\u001b[0m\u001b[0mget_loc\u001b[0m\u001b[0;34m(\u001b[0m\u001b[0mcasted_key\u001b[0m\u001b[0;34m)\u001b[0m\u001b[0;34m\u001b[0m\u001b[0;34m\u001b[0m\u001b[0m\n\u001b[0m\u001b[1;32m   3362\u001b[0m             \u001b[0;32mexcept\u001b[0m \u001b[0mKeyError\u001b[0m \u001b[0;32mas\u001b[0m \u001b[0merr\u001b[0m\u001b[0;34m:\u001b[0m\u001b[0;34m\u001b[0m\u001b[0;34m\u001b[0m\u001b[0m\n",
            "\u001b[0;32m/usr/local/lib/python3.7/dist-packages/pandas/_libs/index.pyx\u001b[0m in \u001b[0;36mpandas._libs.index.IndexEngine.get_loc\u001b[0;34m()\u001b[0m\n",
            "\u001b[0;32m/usr/local/lib/python3.7/dist-packages/pandas/_libs/index.pyx\u001b[0m in \u001b[0;36mpandas._libs.index.IndexEngine.get_loc\u001b[0;34m()\u001b[0m\n",
            "\u001b[0;32mpandas/_libs/hashtable_class_helper.pxi\u001b[0m in \u001b[0;36mpandas._libs.hashtable.PyObjectHashTable.get_item\u001b[0;34m()\u001b[0m\n",
            "\u001b[0;32mpandas/_libs/hashtable_class_helper.pxi\u001b[0m in \u001b[0;36mpandas._libs.hashtable.PyObjectHashTable.get_item\u001b[0;34m()\u001b[0m\n",
            "\u001b[0;31mKeyError\u001b[0m: 'spcs_us_nhpi'",
            "\nThe above exception was the direct cause of the following exception:\n",
            "\u001b[0;31mKeyError\u001b[0m                                  Traceback (most recent call last)",
            "\u001b[0;32m<ipython-input-27-07a2e50e6e29>\u001b[0m in \u001b[0;36m<module>\u001b[0;34m()\u001b[0m\n\u001b[1;32m      1\u001b[0m \u001b[0;31m# Imputation:\u001b[0m\u001b[0;34m\u001b[0m\u001b[0;34m\u001b[0m\u001b[0;34m\u001b[0m\u001b[0m\n\u001b[1;32m      2\u001b[0m \u001b[0;34m\u001b[0m\u001b[0m\n\u001b[0;32m----> 3\u001b[0;31m \u001b[0mdf\u001b[0m\u001b[0;34m[\u001b[0m\u001b[0;34m'spcs_us_nhpi'\u001b[0m\u001b[0;34m]\u001b[0m\u001b[0;34m.\u001b[0m\u001b[0mfillna\u001b[0m\u001b[0;34m(\u001b[0m\u001b[0mmethod\u001b[0m \u001b[0;34m=\u001b[0m \u001b[0;34m'bfill'\u001b[0m\u001b[0;34m,\u001b[0m \u001b[0minplace\u001b[0m \u001b[0;34m=\u001b[0m \u001b[0;32mTrue\u001b[0m\u001b[0;34m)\u001b[0m\u001b[0;34m\u001b[0m\u001b[0;34m\u001b[0m\u001b[0m\n\u001b[0m",
            "\u001b[0;32m/usr/local/lib/python3.7/dist-packages/pandas/core/frame.py\u001b[0m in \u001b[0;36m__getitem__\u001b[0;34m(self, key)\u001b[0m\n\u001b[1;32m   3456\u001b[0m             \u001b[0;32mif\u001b[0m \u001b[0mself\u001b[0m\u001b[0;34m.\u001b[0m\u001b[0mcolumns\u001b[0m\u001b[0;34m.\u001b[0m\u001b[0mnlevels\u001b[0m \u001b[0;34m>\u001b[0m \u001b[0;36m1\u001b[0m\u001b[0;34m:\u001b[0m\u001b[0;34m\u001b[0m\u001b[0;34m\u001b[0m\u001b[0m\n\u001b[1;32m   3457\u001b[0m                 \u001b[0;32mreturn\u001b[0m \u001b[0mself\u001b[0m\u001b[0;34m.\u001b[0m\u001b[0m_getitem_multilevel\u001b[0m\u001b[0;34m(\u001b[0m\u001b[0mkey\u001b[0m\u001b[0;34m)\u001b[0m\u001b[0;34m\u001b[0m\u001b[0;34m\u001b[0m\u001b[0m\n\u001b[0;32m-> 3458\u001b[0;31m             \u001b[0mindexer\u001b[0m \u001b[0;34m=\u001b[0m \u001b[0mself\u001b[0m\u001b[0;34m.\u001b[0m\u001b[0mcolumns\u001b[0m\u001b[0;34m.\u001b[0m\u001b[0mget_loc\u001b[0m\u001b[0;34m(\u001b[0m\u001b[0mkey\u001b[0m\u001b[0;34m)\u001b[0m\u001b[0;34m\u001b[0m\u001b[0;34m\u001b[0m\u001b[0m\n\u001b[0m\u001b[1;32m   3459\u001b[0m             \u001b[0;32mif\u001b[0m \u001b[0mis_integer\u001b[0m\u001b[0;34m(\u001b[0m\u001b[0mindexer\u001b[0m\u001b[0;34m)\u001b[0m\u001b[0;34m:\u001b[0m\u001b[0;34m\u001b[0m\u001b[0;34m\u001b[0m\u001b[0m\n\u001b[1;32m   3460\u001b[0m                 \u001b[0mindexer\u001b[0m \u001b[0;34m=\u001b[0m \u001b[0;34m[\u001b[0m\u001b[0mindexer\u001b[0m\u001b[0;34m]\u001b[0m\u001b[0;34m\u001b[0m\u001b[0;34m\u001b[0m\u001b[0m\n",
            "\u001b[0;32m/usr/local/lib/python3.7/dist-packages/pandas/core/indexes/base.py\u001b[0m in \u001b[0;36mget_loc\u001b[0;34m(self, key, method, tolerance)\u001b[0m\n\u001b[1;32m   3361\u001b[0m                 \u001b[0;32mreturn\u001b[0m \u001b[0mself\u001b[0m\u001b[0;34m.\u001b[0m\u001b[0m_engine\u001b[0m\u001b[0;34m.\u001b[0m\u001b[0mget_loc\u001b[0m\u001b[0;34m(\u001b[0m\u001b[0mcasted_key\u001b[0m\u001b[0;34m)\u001b[0m\u001b[0;34m\u001b[0m\u001b[0;34m\u001b[0m\u001b[0m\n\u001b[1;32m   3362\u001b[0m             \u001b[0;32mexcept\u001b[0m \u001b[0mKeyError\u001b[0m \u001b[0;32mas\u001b[0m \u001b[0merr\u001b[0m\u001b[0;34m:\u001b[0m\u001b[0;34m\u001b[0m\u001b[0;34m\u001b[0m\u001b[0m\n\u001b[0;32m-> 3363\u001b[0;31m                 \u001b[0;32mraise\u001b[0m \u001b[0mKeyError\u001b[0m\u001b[0;34m(\u001b[0m\u001b[0mkey\u001b[0m\u001b[0;34m)\u001b[0m \u001b[0;32mfrom\u001b[0m \u001b[0merr\u001b[0m\u001b[0;34m\u001b[0m\u001b[0;34m\u001b[0m\u001b[0m\n\u001b[0m\u001b[1;32m   3364\u001b[0m \u001b[0;34m\u001b[0m\u001b[0m\n\u001b[1;32m   3365\u001b[0m         \u001b[0;32mif\u001b[0m \u001b[0mis_scalar\u001b[0m\u001b[0;34m(\u001b[0m\u001b[0mkey\u001b[0m\u001b[0;34m)\u001b[0m \u001b[0;32mand\u001b[0m \u001b[0misna\u001b[0m\u001b[0;34m(\u001b[0m\u001b[0mkey\u001b[0m\u001b[0;34m)\u001b[0m \u001b[0;32mand\u001b[0m \u001b[0;32mnot\u001b[0m \u001b[0mself\u001b[0m\u001b[0;34m.\u001b[0m\u001b[0mhasnans\u001b[0m\u001b[0;34m:\u001b[0m\u001b[0;34m\u001b[0m\u001b[0;34m\u001b[0m\u001b[0m\n",
            "\u001b[0;31mKeyError\u001b[0m: 'spcs_us_nhpi'"
          ]
        }
      ]
    },
    {
      "cell_type": "code",
      "source": [
        "# Final check for missing values:\n",
        "\n",
        "df.isna().sum()"
      ],
      "metadata": {
        "id": "p5ctaFezcJKX"
      },
      "execution_count": null,
      "outputs": []
    },
    {
      "cell_type": "code",
      "source": [
        "# Check for insconsistencies and odd numeric entries:\n",
        "\n",
        "df.describe().round(1)"
      ],
      "metadata": {
        "id": "H4_6cfil4SwY"
      },
      "execution_count": null,
      "outputs": []
    },
    {
      "cell_type": "markdown",
      "source": [
        "##**VISUAL ANALYSIS**"
      ],
      "metadata": {
        "id": "4RvFADxf25nH"
      }
    },
    {
      "cell_type": "code",
      "source": [
        "import matplotlib.pyplot as plt\n",
        "import seaborn as sns\n",
        "\n",
        "# Correlation map to ascertain related features:\n",
        "\n",
        "correlation = df.corr().round(2)\n",
        "\n",
        "fig, hm = plt.subplots(nrows=1, ncols =1, figsize=(18,18));\n",
        "hm = sns.heatmap(correlation, cmap='rocket_r', annot=True);\n",
        "hm.set_title('Correlation Heatmap\\n', fontsize= 24);"
      ],
      "metadata": {
        "id": "Bl9itJtO24rU"
      },
      "execution_count": null,
      "outputs": []
    },
    {
      "cell_type": "code",
      "source": [
        "import matplotlib.patches as mpatches\n",
        "\n",
        "fig, axes = plt.subplots(nrows=1, ncols =2, figsize=(20,10));\n",
        "\n",
        "fed_fund = sns.lineplot(data =df, x= 'date', y = 'fed_fund_rate', ax = axes[0]);\n",
        "uer = sns.lineplot(data =df, x= 'date', y = 'unemployment_rate', ax = axes[0]);\n",
        "asp = sns.lineplot(data =df, x= 'date', y = 'asp_nhs', ax = axes[1]);\n",
        "msp = sns.lineplot(data =df, x= 'date', y = 'msp_nhs', ax = axes[1]);"
      ],
      "metadata": {
        "id": "F_XjiSGu3JaO"
      },
      "execution_count": null,
      "outputs": []
    }
  ]
}